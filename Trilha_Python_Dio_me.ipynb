{
  "nbformat": 4,
  "nbformat_minor": 0,
  "metadata": {
    "colab": {
      "provenance": [],
      "authorship_tag": "ABX9TyMEOnUsTSmFfzeAd7EJL07D",
      "include_colab_link": true
    },
    "kernelspec": {
      "name": "python3",
      "display_name": "Python 3"
    },
    "language_info": {
      "name": "python"
    }
  },
  "cells": [
    {
      "cell_type": "markdown",
      "metadata": {
        "id": "view-in-github",
        "colab_type": "text"
      },
      "source": [
        "<a href=\"https://colab.research.google.com/github/ElizangelaB/Criando-Projeto-Interface-grafica/blob/main/Trilha_Python_Dio_me.ipynb\" target=\"_parent\"><img src=\"https://colab.research.google.com/assets/colab-badge.svg\" alt=\"Open In Colab\"/></a>"
      ]
    },
    {
      "cell_type": "markdown",
      "source": [
        "Operadores aritméticos fundamentais são: adição, subtração, multiplicação e divisão, potenciação, radiciação e logaritmação.\n",
        "A solução é na ordem da esquerda para direita parênteses, expoentes, multiplicação, divisão, soma e subtração."
      ],
      "metadata": {
        "id": "7FPJrWpqknep"
      }
    },
    {
      "cell_type": "code",
      "execution_count": null,
      "metadata": {
        "id": "59br9w3dsueL"
      },
      "outputs": [],
      "source": [
        "print(10/2)\n",
        "print(10//2)\n",
        "print (3**2)\n",
        "print(10//3)\n",
        "print(89-9)\n",
        "print(10-5*2)\n",
        "print(4**(2*2))\n",
        "x =10-5*2\n",
        "y= 10 - 5**2\n",
        "print(10+(9**2) +12)\n",
        "print(x)\n",
        "print (y)"
      ]
    },
    {
      "cell_type": "markdown",
      "source": [
        "Comparação\n",
        "\n",
        "É utilizada para comparar dois valores retornando um valor boleano (é um tipo de dado lógico que pode ter apenas um de dois valores possíveis: verdadeiro ou falso falso)"
      ],
      "metadata": {
        "id": "P2d4i9GEh55E"
      }
    },
    {
      "cell_type": "code",
      "source": [
        "saldo = 550\n",
        "saque = 200\n",
        "print(saldo==saque)\n",
        "print(saldo>=saque)\n",
        "print(saldo!=saque)\n",
        "print(saque<saldo)"
      ],
      "metadata": {
        "id": "Ekw-yrhIPhXp"
      },
      "execution_count": null,
      "outputs": []
    },
    {
      "cell_type": "markdown",
      "source": [
        "Atribuição\n",
        "\n",
        "São utilizados para definir o valor inicial ou sobescrever o valor de uma variável"
      ],
      "metadata": {
        "id": "JJORk32VlIHD"
      }
    },
    {
      "cell_type": "code",
      "source": [
        "#Simples\n",
        "saldo = 500\n",
        "print(saldo)"
      ],
      "metadata": {
        "id": "QosSP39ik4lo"
      },
      "execution_count": null,
      "outputs": []
    },
    {
      "cell_type": "code",
      "source": [
        "#Com adição\n",
        "saldo = 500\n",
        "saldo +=200\n",
        "print(saldo)"
      ],
      "metadata": {
        "id": "slDK5UylyvBo"
      },
      "execution_count": null,
      "outputs": []
    },
    {
      "cell_type": "code",
      "source": [
        "#Com subtração\n",
        "saldo = 500\n",
        "saldo -= 100\n",
        "print(saldo)"
      ],
      "metadata": {
        "id": "nIixjtpZy5vw"
      },
      "execution_count": null,
      "outputs": []
    },
    {
      "cell_type": "code",
      "source": [
        "#Com Multiplicação\n",
        "saldo = 500\n",
        "saldo *= 250\n",
        "print(saldo)\n"
      ],
      "metadata": {
        "id": "_FTOvSlqzD12"
      },
      "execution_count": null,
      "outputs": []
    },
    {
      "cell_type": "code",
      "source": [
        "#Com divisão\n",
        "saldo = 500\n",
        "saldo /=5\n",
        "print(saldo)\n",
        "\n",
        "saldo //=5\n",
        "print(saldo)"
      ],
      "metadata": {
        "id": "rcLE9ygKzLWn"
      },
      "execution_count": null,
      "outputs": []
    },
    {
      "cell_type": "code",
      "source": [
        "# Atribuição com módulo\n",
        "saldo = 500\n",
        "saldo %= 480\n",
        "print(saldo)"
      ],
      "metadata": {
        "id": "sA6yibWpxRaR"
      },
      "execution_count": null,
      "outputs": []
    },
    {
      "cell_type": "code",
      "source": [
        "# Com exponenciação\n",
        "saldo = 80\n",
        "saldo **=2\n",
        "print(saldo)"
      ],
      "metadata": {
        "id": "ssHjZmXYxl2Q"
      },
      "execution_count": null,
      "outputs": []
    },
    {
      "cell_type": "markdown",
      "source": [
        "Operadores Lógicos\n",
        "\n",
        "São usados para criar expressões condicionais complexas, que representa a conjunção lógica 'e' (and) a condição  ambas tem que ser verdade a disjunção lógica 'ou' (or) uma das condições tem que ser verdade, retornando resultado boleano.\n",
        "  \n",
        "![image.png](data:image/png;base64,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)\n",
        "\n",
        "resumo op_condição (>,<, = , !=, >=, <=)"
      ],
      "metadata": {
        "id": "Wyl3qc2iz-VR"
      }
    },
    {
      "cell_type": "code",
      "source": [
        "# Operador e\n",
        "saldo = 500\n",
        "limite = 200\n",
        "saque = 200\n",
        "\n",
        "saldo > saque\n",
        "saque <= saldo\n",
        "limite != saldo\n",
        "saque == saldo"
      ],
      "metadata": {
        "id": "S0MDLiZw0Xy-"
      },
      "execution_count": null,
      "outputs": []
    },
    {
      "cell_type": "code",
      "source": [
        "# Operador ou\n",
        "saldo = 500\n",
        "limite = 500\n",
        "saque = 900\n",
        "\n",
        "saldo >= saque or limite <= saldo\n",
        "limite != saldo or saldo > saque"
      ],
      "metadata": {
        "id": "6AP9DNaZ13bC"
      },
      "execution_count": null,
      "outputs": []
    },
    {
      "cell_type": "code",
      "source": [
        "# Operador de negação\n",
        "contatos_emergencia = []\n",
        "saldo = 500\n",
        "limite = 500\n",
        "saque = 900\n",
        "\n",
        "not 1000>1500\n",
        "not 1500>100\n",
        "not contatos_emergencia\n",
        "not saque < 4000\n",
        "not ''"
      ],
      "metadata": {
        "colab": {
          "base_uri": "https://localhost:8080/"
        },
        "id": "_dIKvK8z3sYX",
        "outputId": "e506905f-0e31-4b23-b180-41ec9b5c2199"
      },
      "execution_count": 40,
      "outputs": [
        {
          "output_type": "execute_result",
          "data": {
            "text/plain": [
              "True"
            ]
          },
          "metadata": {},
          "execution_count": 40
        }
      ]
    },
    {
      "cell_type": "code",
      "source": [
        "# Parênteses\n",
        "saldo = 500\n",
        "limite = 500\n",
        "saque = 900\n",
        "conta_especial = True\n",
        "\n",
        "saldo >= saque and limite <= saldo or conta_especial and saldo >= saque\n",
        "(saldo >= saque and limite <= saldo) or (conta_especial and saldo >= saque )"
      ],
      "metadata": {
        "id": "TjGmV_5d5ohS"
      },
      "execution_count": null,
      "outputs": []
    },
    {
      "cell_type": "code",
      "source": [
        "print(True and True)\n",
        "print(True and False)\n",
        "print(True or True)\n",
        "print(True or False)\n",
        "print(False or False)"
      ],
      "metadata": {
        "id": "rv0lw3aF6x79"
      },
      "execution_count": null,
      "outputs": []
    },
    {
      "cell_type": "markdown",
      "source": [
        "Operadores de identidade\n",
        "\n",
        "Servem para a comparação de objetos. Nessa comparação é verificado se eles ocupam a mesma posição na memória, o que significará que se trata do mesmo objeto\n",
        "is\n",
        "is not\n"
      ],
      "metadata": {
        "id": "--VL63yf8_R3"
      }
    },
    {
      "cell_type": "code",
      "source": [
        "curso = \" Curso Phyton\"\n",
        "nome_curso = curso\n",
        "saldo, limite = 200, 200\n",
        "\n",
        "curso is nome_curso\n",
        "curso is not nome_curso\n",
        "saldo is limite"
      ],
      "metadata": {
        "id": "3rC6Joym9Oq7"
      },
      "execution_count": null,
      "outputs": []
    },
    {
      "cell_type": "markdown",
      "source": [
        "Operadores de Associação\n",
        "\n",
        "Os operadores de associação são utilizados para verificar se uma sequência contém um objeto."
      ],
      "metadata": {
        "id": "v-rm22tz-AKK"
      }
    },
    {
      "cell_type": "code",
      "source": [
        "curso = \" Curso Python\"\n",
        "frutas = [\"laranja\", \"uva\", \"limão\"]\n",
        "saques = [2000, 100]\n",
        "\n",
        "\"Python\" in curso\n",
        "\"limão\" in frutas\n",
        "\"maça\" in frutas\n",
        "2000 in saques\n",
        "100 in saques"
      ],
      "metadata": {
        "id": "fO0gq3Zn-PzF"
      },
      "execution_count": null,
      "outputs": []
    },
    {
      "cell_type": "markdown",
      "source": [
        "Estrutura condicional e de repetição\n",
        "\n",
        "Indentação e os blocos de comando torna o codigo mais legivel e manutenível, atraves da indentaçao o interpretador consegue determinar onde um bloco inicia e onde ele termina."
      ],
      "metadata": {
        "id": "Y8xiu-QcM-yu"
      }
    },
    {
      "cell_type": "code",
      "source": [
        "def sacar(valor): #incio do bloco método\n",
        "  saldo = 500\n",
        "\n",
        "  if saldo >= valor:  #inicio bloco do if\n",
        "    self.saldo -= valor\n",
        "  #fim do bloco if\n",
        "\n",
        " # fim do método"
      ],
      "metadata": {
        "id": "qKw-qSpQOJPA"
      },
      "execution_count": 65,
      "outputs": []
    }
  ]
}